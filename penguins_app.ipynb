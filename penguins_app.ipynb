{
 "cells": [
  {
   "cell_type": "code",
   "execution_count": 33,
   "id": "5eebed02",
   "metadata": {},
   "outputs": [],
   "source": [
    "import pandas as pd\n",
    "import numpy as np\n",
    "import streamlit as st\n",
    "import pickle\n",
    "from sklearn.ensemble import RandomForestClassifier\n",
    "from PIL import Image"
   ]
  },
  {
   "cell_type": "code",
   "execution_count": null,
   "id": "36514257",
   "metadata": {},
   "outputs": [],
   "source": [
    "# Markdown format change\n",
    "\n",
    "st.markdown('''\n",
    "<style>\n",
    ".main{\n",
    "background-color: #FFFFE0;\n",
    "}\n",
    "<style>\n",
    "''',\n",
    "unsafe_allow_html= True)\n",
    "\n",
    "# Markdown format change\n",
    "\n",
    "st.sidebar.markdown('''\n",
    "<style>\n",
    ".main{\n",
    "background-color: #ADD8E6;\n",
    "}\n",
    "<style>\n",
    "''',\n",
    "unsafe_allow_html= True)"
   ]
  },
  {
   "cell_type": "code",
   "execution_count": 2,
   "id": "c9e07025",
   "metadata": {},
   "outputs": [
    {
     "name": "stderr",
     "output_type": "stream",
     "text": [
      "2023-01-05 12:15:54.719 \n",
      "  \u001b[33m\u001b[1mWarning:\u001b[0m to view this Streamlit app on a browser, run it with the following\n",
      "  command:\n",
      "\n",
      "    streamlit run C:\\Users\\Asus\\AppData\\Local\\Programs\\Python\\Python310\\lib\\site-packages\\ipykernel_launcher.py [ARGUMENTS]\n"
     ]
    }
   ],
   "source": [
    "st.write('''\n",
    "# Penguin Species Prediction App\n",
    "\n",
    "This app uses random forest classifier to predict the ***Palmer Penguin*** species.\n",
    "\n",
    "Data obtained from the [palmerpenguins library](https://github.com/allisonhorst/palmerpenguins) in R by Allison Horst.\n",
    "''')"
   ]
  },
  {
   "cell_type": "code",
   "execution_count": 3,
   "id": "a19943ca",
   "metadata": {},
   "outputs": [
    {
     "data": {
      "text/plain": [
       "DeltaGenerator(_root_container=1, _provided_cursor=None, _parent=DeltaGenerator(_root_container=0, _provided_cursor=None, _parent=None, _block_type=None, _form_data=None), _block_type=None, _form_data=None)"
      ]
     },
     "execution_count": 3,
     "metadata": {},
     "output_type": "execute_result"
    }
   ],
   "source": [
    "st.sidebar.header('User Input Features')\n",
    "\n",
    "st.sidebar.markdown('''\n",
    "[Example CSV input file](https://raw.githubusercontent.com/dataprofessor/data/master/penguins_example.csv)\n",
    "''')"
   ]
  },
  {
   "cell_type": "code",
   "execution_count": 4,
   "id": "f6d7f401",
   "metadata": {},
   "outputs": [],
   "source": [
    "# Collect user input features into dataframe\n",
    "\n",
    "uploaded_file = st.sidebar.file_uploader(' Upload your input file in CSV format',\n",
    "                                        type=['csv'])\n",
    "\n",
    "if uploaded_file is not None:\n",
    "    input_df = pd.read_csv(uploaded_file)\n",
    "else:\n",
    "    def user_input_features():\n",
    "        island = st.sidebar.selectbox('Island', ('Biscoe', 'Dream', 'Torgersen'))\n",
    "        sex = st.sidebar.selectbox('Sex', ('Male', 'Female'))\n",
    "        bill_length_mm = st.sidebar.slider('Bill length(mm)', 32.1, 59.6, 41.8)\n",
    "        bill_depth_mm = st.sidebar.slider('Bill depth(mm)', 13.1, 21.5, 18.1)\n",
    "        flipper_length_mm = st.sidebar.slider('Flipper length(mm)', 172.0, 231.0, 217.0)\n",
    "        body_mass_g = st.sidebar.slider('Body mass(g)', 2700.0, 6300.0, 5000.0)\n",
    "        \n",
    "        data = {'island': island,\n",
    "               'bill_length_mm': bill_length_mm,\n",
    "               'bill_depth_mm': bill_depth_mm,\n",
    "               'flipper_length_mm': flipper_length_mm,\n",
    "               'body_mass_g': body_mass_g,\n",
    "               'sex': sex.lower()}\n",
    "        features_df = pd.DataFrame(data, index=[0])\n",
    "        return features_df\n",
    "    input_df = user_input_features() "
   ]
  },
  {
   "cell_type": "code",
   "execution_count": 5,
   "id": "5d68db14",
   "metadata": {},
   "outputs": [],
   "source": [
    "# Combine user input features with entire penguins dataset\n",
    "# This is import for feature encoding\n",
    "# When we perform feature encoding on user input, we need all the possible options \n",
    "# which are available in entire penguins dataset\n",
    "\n",
    "penguins = pd.read_csv('penguins_cleaned.csv')\n",
    "penguins = penguins.drop(columns=['species'])\n",
    "df = pd.concat([input_df, penguins], axis=0)"
   ]
  },
  {
   "cell_type": "code",
   "execution_count": 6,
   "id": "6b78a996",
   "metadata": {},
   "outputs": [],
   "source": [
    "# Encoding of ordinal features\n",
    "\n",
    "encode = ['sex', 'island']\n",
    "\n",
    "for col in encode:\n",
    "    dummy = pd.get_dummies(df[col], prefix=col)\n",
    "    df = pd.concat([df, dummy], axis=1)\n",
    "    del df[col]\n",
    "df = df[:1] # Selecting only the first row(user input)"
   ]
  },
  {
   "cell_type": "code",
   "execution_count": 7,
   "id": "f77bedf1",
   "metadata": {},
   "outputs": [],
   "source": [
    "# Display the user input featuers\n",
    "\n",
    "st.subheader('User Input Features')\n",
    "\n",
    "if uploaded_file is not None:\n",
    "    st.write(df)\n",
    "else:\n",
    "    st.write('CSV file is not uploaded. Currently using input features as below.')\n",
    "    st.write(df)"
   ]
  },
  {
   "cell_type": "code",
   "execution_count": 8,
   "id": "e739d7d8",
   "metadata": {},
   "outputs": [],
   "source": [
    "# Read in save classification model\n",
    "\n",
    "load_rfc = pickle.load(open('penguins_rfc.pkl', 'rb'))"
   ]
  },
  {
   "cell_type": "code",
   "execution_count": 9,
   "id": "ae3fb0a9",
   "metadata": {},
   "outputs": [],
   "source": [
    "# Apply model to make predictions\n",
    "\n",
    "prediction = load_rfc.predict(df)\n",
    "prediction_proba = load_rfc.predict_proba(df)"
   ]
  },
  {
   "cell_type": "code",
   "execution_count": 10,
   "id": "9e9d0582",
   "metadata": {},
   "outputs": [],
   "source": [
    "species = np.array(['Adelie', 'Chinstrap', 'Gentoo'])"
   ]
  },
  {
   "cell_type": "code",
   "execution_count": 46,
   "id": "804ec95c",
   "metadata": {},
   "outputs": [],
   "source": [
    "st.subheader('Penguin Species Prediction Probability')\n",
    "pred_df = pd.DataFrame({'Species': species, 'Prediction probability': prediction_proba[0]})\n",
    "st.write(pred_df)"
   ]
  },
  {
   "cell_type": "code",
   "execution_count": 26,
   "id": "8e0f9774",
   "metadata": {},
   "outputs": [],
   "source": [
    "final_pred_proba = pred_df[pred_df['Species'] == species[prediction][0]].reset_index()['Prediction probability'][0]\n",
    "st.subheader('Prediction')\n",
    "\n",
    "st.write('We predict the species to be',species[prediction][0],\n",
    "         'with prediction probability', final_pred_proba, '.')"
   ]
  },
  {
   "cell_type": "code",
   "execution_count": null,
   "id": "88039dbd",
   "metadata": {},
   "outputs": [],
   "source": [
    "if species[prediction][0] == 'Adelie':\n",
    "    image = Image.open('adelie.jpg')\n",
    "    source = 'Image Source: https://de.wikipedia.org/wiki/Adeliepinguin#/media/Datei:Adeliepinguin_in_der_Mauser_auf_Franklin_Island.jpg'\n",
    "elif species[prediction][0] == 'Gentoo':\n",
    "    image = Image.open('gentoo.jpg')\n",
    "    source = 'Image Source: https://en.wikipedia.org/wiki/Gentoo_penguin#/media/File:Brown_Bluff-2016-Tabarin_Peninsula%E2%80%93Gentoo_penguin_(Pygoscelis_papua)_03.jpg'\n",
    "elif species[prediction][0] == 'Chinstrap':\n",
    "    image = Image.open('chinstrap.jpg')\n",
    "    source = 'Image Source: https://upload.wikimedia.org/wikipedia/commons/6/69/Manchot_01.jpg'\n",
    "\n",
    "    \n",
    "st.write('Here is a photo of', species[prediction][0], 'Penguine for you!')\n",
    "st.image(image, caption=source)"
   ]
  },
  {
   "cell_type": "code",
   "execution_count": null,
   "id": "6973f99d",
   "metadata": {},
   "outputs": [],
   "source": [
    "st.subheader('Reference')\n",
    "st.markdown('[Code reference](https://github.com/dataprofessor/code/tree/master/streamlit/part3)')"
   ]
  },
  {
   "cell_type": "code",
   "execution_count": 50,
   "id": "923085f6",
   "metadata": {},
   "outputs": [
    {
     "name": "stdout",
     "output_type": "stream",
     "text": [
      "Note: you may need to restart the kernel to use updated packages.\n"
     ]
    }
   ],
   "source": [
    "#pip freeze > penguins_app_requirements.txt"
   ]
  },
  {
   "cell_type": "code",
   "execution_count": null,
   "id": "b6ea06fd",
   "metadata": {},
   "outputs": [],
   "source": []
  },
  {
   "cell_type": "code",
   "execution_count": null,
   "id": "4af6995a",
   "metadata": {},
   "outputs": [],
   "source": []
  },
  {
   "cell_type": "code",
   "execution_count": null,
   "id": "22bf924a",
   "metadata": {},
   "outputs": [],
   "source": []
  },
  {
   "cell_type": "code",
   "execution_count": null,
   "id": "45844c81",
   "metadata": {},
   "outputs": [],
   "source": []
  },
  {
   "cell_type": "code",
   "execution_count": null,
   "id": "db303f5a",
   "metadata": {},
   "outputs": [],
   "source": []
  },
  {
   "cell_type": "code",
   "execution_count": null,
   "id": "337e76ea",
   "metadata": {},
   "outputs": [],
   "source": []
  },
  {
   "cell_type": "code",
   "execution_count": null,
   "id": "58d1c7ed",
   "metadata": {},
   "outputs": [],
   "source": []
  },
  {
   "cell_type": "code",
   "execution_count": null,
   "id": "b108eb92",
   "metadata": {},
   "outputs": [],
   "source": []
  },
  {
   "cell_type": "code",
   "execution_count": null,
   "id": "c8f7fdce",
   "metadata": {},
   "outputs": [],
   "source": []
  },
  {
   "cell_type": "code",
   "execution_count": null,
   "id": "8991f2bb",
   "metadata": {},
   "outputs": [],
   "source": []
  },
  {
   "cell_type": "code",
   "execution_count": null,
   "id": "429729b5",
   "metadata": {},
   "outputs": [],
   "source": []
  },
  {
   "cell_type": "code",
   "execution_count": null,
   "id": "bfc38140",
   "metadata": {},
   "outputs": [],
   "source": []
  },
  {
   "cell_type": "code",
   "execution_count": null,
   "id": "a91a6881",
   "metadata": {},
   "outputs": [],
   "source": []
  },
  {
   "cell_type": "code",
   "execution_count": null,
   "id": "4a6eeffb",
   "metadata": {},
   "outputs": [],
   "source": []
  },
  {
   "cell_type": "code",
   "execution_count": null,
   "id": "891c991a",
   "metadata": {},
   "outputs": [],
   "source": []
  },
  {
   "cell_type": "code",
   "execution_count": null,
   "id": "626c1b3f",
   "metadata": {},
   "outputs": [],
   "source": []
  },
  {
   "cell_type": "code",
   "execution_count": null,
   "id": "daaac226",
   "metadata": {},
   "outputs": [],
   "source": []
  },
  {
   "cell_type": "code",
   "execution_count": null,
   "id": "6a675eff",
   "metadata": {},
   "outputs": [],
   "source": []
  },
  {
   "cell_type": "code",
   "execution_count": null,
   "id": "0e041c0e",
   "metadata": {},
   "outputs": [],
   "source": []
  },
  {
   "cell_type": "code",
   "execution_count": null,
   "id": "867b4bd7",
   "metadata": {},
   "outputs": [],
   "source": []
  },
  {
   "cell_type": "code",
   "execution_count": null,
   "id": "546bb08c",
   "metadata": {},
   "outputs": [],
   "source": []
  },
  {
   "cell_type": "code",
   "execution_count": null,
   "id": "e03899a6",
   "metadata": {},
   "outputs": [],
   "source": []
  },
  {
   "cell_type": "code",
   "execution_count": null,
   "id": "2957f41b",
   "metadata": {},
   "outputs": [],
   "source": []
  },
  {
   "cell_type": "code",
   "execution_count": null,
   "id": "26fa978f",
   "metadata": {},
   "outputs": [],
   "source": []
  },
  {
   "cell_type": "code",
   "execution_count": null,
   "id": "4ff93a99",
   "metadata": {},
   "outputs": [],
   "source": []
  },
  {
   "cell_type": "code",
   "execution_count": null,
   "id": "580b7aa5",
   "metadata": {},
   "outputs": [],
   "source": []
  },
  {
   "cell_type": "code",
   "execution_count": null,
   "id": "ebd4ade5",
   "metadata": {},
   "outputs": [],
   "source": []
  },
  {
   "cell_type": "code",
   "execution_count": null,
   "id": "975d88a0",
   "metadata": {},
   "outputs": [],
   "source": []
  },
  {
   "cell_type": "code",
   "execution_count": null,
   "id": "20e077c5",
   "metadata": {},
   "outputs": [],
   "source": []
  },
  {
   "cell_type": "code",
   "execution_count": null,
   "id": "f7c4a225",
   "metadata": {},
   "outputs": [],
   "source": []
  },
  {
   "cell_type": "code",
   "execution_count": null,
   "id": "517a8473",
   "metadata": {},
   "outputs": [],
   "source": []
  },
  {
   "cell_type": "code",
   "execution_count": null,
   "id": "c941d1d5",
   "metadata": {},
   "outputs": [],
   "source": []
  },
  {
   "cell_type": "code",
   "execution_count": null,
   "id": "ff7db483",
   "metadata": {},
   "outputs": [],
   "source": []
  },
  {
   "cell_type": "code",
   "execution_count": null,
   "id": "2212bc91",
   "metadata": {},
   "outputs": [],
   "source": []
  },
  {
   "cell_type": "code",
   "execution_count": null,
   "id": "6af51bed",
   "metadata": {},
   "outputs": [],
   "source": []
  },
  {
   "cell_type": "code",
   "execution_count": null,
   "id": "9098b377",
   "metadata": {},
   "outputs": [],
   "source": []
  },
  {
   "cell_type": "code",
   "execution_count": null,
   "id": "cc1482c6",
   "metadata": {},
   "outputs": [],
   "source": []
  },
  {
   "cell_type": "code",
   "execution_count": null,
   "id": "9beb0b5d",
   "metadata": {},
   "outputs": [],
   "source": []
  }
 ],
 "metadata": {
  "kernelspec": {
   "display_name": "Python 3 (ipykernel)",
   "language": "python",
   "name": "python3"
  },
  "language_info": {
   "codemirror_mode": {
    "name": "ipython",
    "version": 3
   },
   "file_extension": ".py",
   "mimetype": "text/x-python",
   "name": "python",
   "nbconvert_exporter": "python",
   "pygments_lexer": "ipython3",
   "version": "3.10.8"
  }
 },
 "nbformat": 4,
 "nbformat_minor": 5
}
